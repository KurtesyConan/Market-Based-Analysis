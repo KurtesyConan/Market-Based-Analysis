{
 "cells": [
  {
   "cell_type": "markdown",
   "id": "9433dd37",
   "metadata": {},
   "source": [
    "**Importing Data**"
   ]
  },
  {
   "cell_type": "code",
   "execution_count": 44,
   "id": "67a19ce1",
   "metadata": {},
   "outputs": [],
   "source": [
    "import pandas as pd\n",
    "data = pd.read_csv('Online_data.csv', encoding='ISO-8859-1')"
   ]
  },
  {
   "cell_type": "code",
   "execution_count": 45,
   "id": "459bf5a2",
   "metadata": {},
   "outputs": [],
   "source": [
    "data.head()"
   ]
  },
  {
   "cell_type": "markdown",
   "id": "c2091448",
   "metadata": {},
   "source": [
    "**Droping Null Values**"
   ]
  },
  {
   "cell_type": "code",
   "execution_count": 46,
   "id": "93c93011",
   "metadata": {},
   "outputs": [],
   "source": [
    "data = data.dropna()\n",
    "data.info()"
   ]
  },
  {
   "cell_type": "markdown",
   "id": "c82e76af",
   "metadata": {},
   "source": [
    "**Positive ‘Quantity’ Values**"
   ]
  },
  {
   "cell_type": "code",
   "execution_count": 47,
   "id": "c92fd40d",
   "metadata": {},
   "outputs": [],
   "source": [
    "data_plus = data[data['Quantity']>=0]\n",
    "data_plus.info()"
   ]
  },
  {
   "cell_type": "markdown",
   "id": "9065214b",
   "metadata": {},
   "source": [
    "**Basket Data with The Transaction From UK Only**"
   ]
  },
  {
   "cell_type": "code",
   "execution_count": 48,
   "id": "5f556561",
   "metadata": {},
   "outputs": [],
   "source": [
    "basket_plus = (data_plus[data_plus['Country'] ==\"United Kingdom\"].groupby(['ï»¿Invoice', 'Description'])['Quantity'].sum().unstack().reset_index().fillna(0).set_index('ï»¿Invoice'))\n",
    "basket_plus"
   ]
  },
  {
   "cell_type": "markdown",
   "id": "899db25a",
   "metadata": {},
   "source": [
    "**Encode The Data**"
   ]
  },
  {
   "cell_type": "code",
   "execution_count": 49,
   "id": "bc88358a",
   "metadata": {},
   "outputs": [],
   "source": [
    "def encode_units(x):\n",
    "    if x <=0:\n",
    "        return 0\n",
    "    if x >= 1:\n",
    "        return 1\n",
    "    \n",
    "basket_encode_plus = basket_plus.applymap(encode_units)\n",
    "\n",
    "basket_encode_plus"
   ]
  },
  {
   "cell_type": "markdown",
   "id": "03649751",
   "metadata": {},
   "source": [
    "**Filter The Transaction : Bought More Than 1 Items Only**"
   ]
  },
  {
   "cell_type": "code",
   "execution_count": 50,
   "id": "6b35bfb2",
   "metadata": {},
   "outputs": [],
   "source": [
    "basket_filter_plus = basket_encode_plus[(basket_encode_plus > 0).sum(axis=1) >=2]\n",
    "\n",
    "basket_filter_plus"
   ]
  },
  {
   "cell_type": "markdown",
   "id": "1811e553",
   "metadata": {},
   "source": [
    "**Apply the Apriori Algorithm**"
   ]
  },
  {
   "cell_type": "code",
   "execution_count": 51,
   "id": "f1bdac7e",
   "metadata": {},
   "outputs": [],
   "source": [
    "! pip install mlxtend\n",
    "from mlxtend.frequent_patterns import apriori"
   ]
  },
  {
   "cell_type": "code",
   "execution_count": 52,
   "id": "41fb07fa",
   "metadata": {},
   "outputs": [],
   "source": [
    "frequent_itemsets_plus = apriori(basket_filter_plus, min_support= 0.03,use_colnames=True.sort_values('support', ascending=False).reset_index(drop=True)\n",
    "                                 \n",
    "frequent_itemsets_plus['length'] = frequent_itemsets_plus['itemsets'].apply(lambda x: len(x))\n",
    "                                \n",
    "frequent_itemsets_plus"
   ]
  },
  {
   "cell_type": "code",
   "execution_count": null,
   "id": "459dc388",
   "metadata": {},
   "outputs": [],
   "source": [
    "from mlxtend.frequent_patterns import association_rules"
   ]
  },
  {
   "cell_type": "markdown",
   "id": "05a7efae",
   "metadata": {},
   "source": [
    "**Association Between Frequently Bought Items**"
   ]
  },
  {
   "cell_type": "code",
   "execution_count": null,
   "id": "59e4eaa0",
   "metadata": {},
   "outputs": [],
   "source": [
    "frequent_itemsets_rules = association_rules(frequent_itemsets_plus, metric='lift', min_threshold=1).sort_values('lift', ascending=False).reset_index(drop=True)\n",
    "                                 "
   ]
  },
  {
   "cell_type": "code",
   "execution_count": 53,
   "id": "27cfe5a6",
   "metadata": {},
   "outputs": [],
   "source": [
    "\n",
    "frequent_itemsets_rules"
   ]
  },
  {
   "cell_type": "code",
   "execution_count": null,
   "id": "75592046",
   "metadata": {},
   "outputs": [],
   "source": []
  },
  {
   "cell_type": "code",
   "execution_count": null,
   "id": "62c64e92",
   "metadata": {},
   "outputs": [],
   "source": []
  }
 ],
 "metadata": {
  "kernelspec": {
   "display_name": "Python 3 (ipykernel)",
   "language": "python",
   "name": "python3"
  },
  "language_info": {
   "codemirror_mode": {
    "name": "ipython",
    "version": 3
   },
   "file_extension": ".py",
   "mimetype": "text/x-python",
   "name": "python",
   "nbconvert_exporter": "python",
   "pygments_lexer": "ipython3",
   "version": "3.10.9"
  }
 },
 "nbformat": 4,
 "nbformat_minor": 5
}
